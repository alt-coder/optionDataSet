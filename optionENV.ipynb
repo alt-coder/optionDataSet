{
 "cells": [
  {
   "cell_type": "code",
   "execution_count": 2,
   "metadata": {},
   "outputs": [],
   "source": [
    "import os\n",
    "import pandas as pd\n",
    "# import gym\n",
    "# from gym import spaces\n",
    "# import numpy as np\n",
    "from tqdm import tqdm"
   ]
  },
  {
   "cell_type": "code",
   "execution_count": null,
   "metadata": {},
   "outputs": [],
   "source": [
    "def load_data(directory):\n",
    "    data_by_day = {}\n",
    "\n",
    "    for day_dir in tqdm(sorted(os.listdir(directory))):\n",
    "        day_path = os.path.join(directory, day_dir)\n",
    "        if os.path.isdir(day_path):\n",
    "            csv_files = sorted(os.listdir(day_path))\n",
    "            daily_data = []\n",
    "\n",
    "            for csv_file in csv_files:\n",
    "                csv_path = os.path.join(day_path, csv_file)\n",
    "                df = pd.read_csv(csv_path)\n",
    "                if len(df) == 0:\n",
    "                    continue\n",
    "                spot_price = df['Underlying LTP'].iloc[0]\n",
    "                atm_strike = round(spot_price / 50) * 50\n",
    "                df_filtered = df[(df['Strike Price'] >= atm_strike - 200) & (df['Strike Price'] <= atm_strike + 200)]\n",
    "\n",
    "                # Check for NaN values in the relevant rows\n",
    "                if df_filtered.isnull().values.any() or len(df_filtered)==0:\n",
    "                    continue\n",
    "\n",
    "                daily_data.append(df_filtered)\n",
    "\n",
    "            if daily_data:\n",
    "                data_by_day[day_dir] = daily_data\n",
    "\n",
    "    return data_by_day\n",
    "\n",
    "# Load data\n",
    "data_directory = 'dataset'\n",
    "data_by_day = load_data(data_directory)\n",
    "\n",
    "# Verify the data\n",
    "print(data_by_day)\n"
   ]
  },
  {
   "cell_type": "code",
   "execution_count": 5,
   "metadata": {},
   "outputs": [],
   "source": [
    "import pickle\n",
    "\n",
    "with open('pickeleddf', 'wb') as f:\n",
    "    pickle.dump(data_by_day, f)"
   ]
  },
  {
   "cell_type": "code",
   "execution_count": null,
   "metadata": {},
   "outputs": [],
   "source": []
  }
 ],
 "metadata": {
  "kernelspec": {
   "display_name": ".venv",
   "language": "python",
   "name": "python3"
  },
  "language_info": {
   "codemirror_mode": {
    "name": "ipython",
    "version": 3
   },
   "file_extension": ".py",
   "mimetype": "text/x-python",
   "name": "python",
   "nbconvert_exporter": "python",
   "pygments_lexer": "ipython3",
   "version": "3.12.3"
  }
 },
 "nbformat": 4,
 "nbformat_minor": 2
}
